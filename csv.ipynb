{
 "cells": [
  {
   "cell_type": "code",
   "execution_count": 5,
   "id": "db6807c8",
   "metadata": {},
   "outputs": [
    {
     "name": "stdout",
     "output_type": "stream",
     "text": [
      "Lines with a: 65, lines with b: 33\n"
     ]
    }
   ],
   "source": [
    "from pyspark.sql import SparkSession\n",
    "\n",
    "logFile = \"/mnt/eth2021/spark-3.2.0-bin-hadoop3.2/README.md\"  # Should be some file on your system\n",
    "spark = SparkSession.builder.appName(\"SimpleApp\").getOrCreate()\n",
    "logData = spark.read.text(logFile).cache()\n",
    "\n",
    "numAs = logData.filter(logData.value.contains('a')).count()\n",
    "numBs = logData.filter(logData.value.contains('b')).count()\n",
    "\n",
    "print(\"Lines with a: %i, lines with b: %i\" % (numAs, numBs))\n",
    "\n",
    "spark.stop()"
   ]
  },
  {
   "cell_type": "code",
   "execution_count": 4,
   "id": "8af38b4b",
   "metadata": {},
   "outputs": [
    {
     "name": "stdout",
     "output_type": "stream",
     "text": [
      "bin   data\tjars\t    LICENSE   NOTICE  R\t\t RELEASE  yarn\r\n",
      "conf  examples\tkubernetes  licenses  python  README.md  sbin\r\n"
     ]
    }
   ],
   "source": [
    "!ls /mnt/eth2021/spark-3.2.0-bin-hadoop3.2"
   ]
  },
  {
   "cell_type": "code",
   "execution_count": 2,
   "id": "bf5969a4",
   "metadata": {},
   "outputs": [
    {
     "name": "stdout",
     "output_type": "stream",
     "text": [
      "blocks20210101.csv  blocks20210702.csv\t      transactions20210402.csv\r\n",
      "blocks20210102.csv  blocks20210703.csv\t      transactions20210403.csv\r\n",
      "blocks20210103.csv  blocks20210704.csv\t      transactions20210404.csv\r\n",
      "blocks20210104.csv  blocks20210705.csv\t      transactions20210405.csv\r\n",
      "blocks20210105.csv  blocks20210706.csv\t      transactions20210406.csv\r\n",
      "blocks20210106.csv  blocks20210707.csv\t      transactions20210407.csv\r\n",
      "blocks20210107.csv  blocks20210708.csv\t      transactions20210408.csv\r\n",
      "blocks20210108.csv  blocks20210709.csv\t      transactions20210409.csv\r\n",
      "blocks20210109.csv  blocks20210710.csv\t      transactions20210410.csv\r\n",
      "blocks20210110.csv  blocks20210711.csv\t      transactions20210411.csv\r\n",
      "blocks20210111.csv  blocks20210712.csv\t      transactions20210412.csv\r\n",
      "blocks20210112.csv  blocks20210713.csv\t      transactions20210413.csv\r\n",
      "blocks20210113.csv  blocks20210714.csv\t      transactions20210414.csv\r\n",
      "blocks20210114.csv  blocks20210715.csv\t      transactions20210415.csv\r\n",
      "blocks20210115.csv  blocks20210716.csv\t      transactions20210416.csv\r\n",
      "blocks20210116.csv  blocks20210717.csv\t      transactions20210417.csv\r\n",
      "blocks20210117.csv  blocks20210718.csv\t      transactions20210418.csv\r\n",
      "blocks20210118.csv  blocks20210719.csv\t      transactions20210419.csv\r\n",
      "blocks20210119.csv  blocks20210720.csv\t      transactions20210420.csv\r\n",
      "blocks20210120.csv  blocks20210721.csv\t      transactions20210421.csv\r\n",
      "blocks20210121.csv  blocks20210722.csv\t      transactions20210422.csv\r\n",
      "blocks20210122.csv  blocks20210723.csv\t      transactions20210423.csv\r\n",
      "blocks20210123.csv  blocks20210724.csv\t      transactions20210424.csv\r\n",
      "blocks20210124.csv  blocks20210725.csv\t      transactions20210425.csv\r\n",
      "blocks20210125.csv  blocks20210726.csv\t      transactions20210426.csv\r\n",
      "blocks20210126.csv  blocks20210727.csv\t      transactions20210427.csv\r\n",
      "blocks20210127.csv  blocks20210728.csv\t      transactions20210428.csv\r\n",
      "blocks20210128.csv  blocks20210729.csv\t      transactions20210429.csv\r\n",
      "blocks20210129.csv  blocks20210730.csv\t      transactions20210430.csv\r\n",
      "blocks20210130.csv  blocks20210731.csv\t      transactions20210501.csv\r\n",
      "blocks20210131.csv  blocks20210801.csv\t      transactions20210502.csv\r\n",
      "blocks20210201.csv  blocks20210802.csv\t      transactions20210503.csv\r\n",
      "blocks20210202.csv  blocks20210803.csv\t      transactions20210504.csv\r\n",
      "blocks20210203.csv  blocks20210804.csv\t      transactions20210505.csv\r\n",
      "blocks20210204.csv  blocks20210805.csv\t      transactions20210506.csv\r\n",
      "blocks20210205.csv  blocks20210806.csv\t      transactions20210507.csv\r\n",
      "blocks20210206.csv  blocks20210807.csv\t      transactions20210508.csv\r\n",
      "blocks20210207.csv  blocks20210808.csv\t      transactions20210509.csv\r\n",
      "blocks20210208.csv  blocks20210809.csv\t      transactions20210510.csv\r\n",
      "blocks20210209.csv  blocks20210810.csv\t      transactions20210511.csv\r\n",
      "blocks20210210.csv  blocks20210811.csv\t      transactions20210512.csv\r\n",
      "blocks20210211.csv  blocks20210812.csv\t      transactions20210513.csv\r\n",
      "blocks20210212.csv  blocks20210813.csv\t      transactions20210514.csv\r\n",
      "blocks20210213.csv  blocks20210814.csv\t      transactions20210515.csv\r\n",
      "blocks20210214.csv  blocks20210815.csv\t      transactions20210516.csv\r\n",
      "blocks20210215.csv  blocks20210816.csv\t      transactions20210517.csv\r\n",
      "blocks20210216.csv  blocks20210817.csv\t      transactions20210518.csv\r\n",
      "blocks20210217.csv  blocks20210818.csv\t      transactions20210519.csv\r\n",
      "blocks20210218.csv  blocks20210819.csv\t      transactions20210520.csv\r\n",
      "blocks20210219.csv  blocks20210820.csv\t      transactions20210521.csv\r\n",
      "blocks20210220.csv  blocks20210821.csv\t      transactions20210522.csv\r\n",
      "blocks20210221.csv  blocks20210822.csv\t      transactions20210523.csv\r\n",
      "blocks20210222.csv  blocks20210823.csv\t      transactions20210524.csv\r\n",
      "blocks20210223.csv  blocks20210824.csv\t      transactions20210525.csv\r\n",
      "blocks20210224.csv  blocks20210825.csv\t      transactions20210526.csv\r\n",
      "blocks20210225.csv  blocks20210826.csv\t      transactions20210527.csv\r\n",
      "blocks20210226.csv  blocks20210827.csv\t      transactions20210528.csv\r\n",
      "blocks20210227.csv  blocks20210828.csv\t      transactions20210529.csv\r\n",
      "blocks20210228.csv  blocks20210829.csv\t      transactions20210530.csv\r\n",
      "blocks20210301.csv  blocks20210830.csv\t      transactions20210531.csv\r\n",
      "blocks20210302.csv  blocks20210831.csv\t      transactions20210601.csv\r\n",
      "blocks20210303.csv  blocks20210901.csv\t      transactions20210602.csv\r\n",
      "blocks20210304.csv  blocks20210902.csv\t      transactions20210603.csv\r\n",
      "blocks20210305.csv  blocks20210903.csv\t      transactions20210604.csv\r\n",
      "blocks20210306.csv  blocks20210904.csv\t      transactions20210605.csv\r\n",
      "blocks20210307.csv  blocks20210905.csv\t      transactions20210606.csv\r\n",
      "blocks20210308.csv  blocks20210906.csv\t      transactions20210607.csv\r\n",
      "blocks20210309.csv  blocks20210907.csv\t      transactions20210608.csv\r\n",
      "blocks20210310.csv  blocks20210908.csv\t      transactions20210609.csv\r\n",
      "blocks20210311.csv  blocks20210909.csv\t      transactions20210610.csv\r\n",
      "blocks20210312.csv  blocks20210910.csv\t      transactions20210611.csv\r\n",
      "blocks20210313.csv  blocks20210911.csv\t      transactions20210612.csv\r\n",
      "blocks20210314.csv  blocks20210912.csv\t      transactions20210613.csv\r\n",
      "blocks20210315.csv  blocks20210913.csv\t      transactions20210614.csv\r\n",
      "blocks20210316.csv  blocks20210914.csv\t      transactions20210615.csv\r\n",
      "blocks20210317.csv  blocks20210915.csv\t      transactions20210616.csv\r\n",
      "blocks20210318.csv  blocks20210916.csv\t      transactions20210617.csv\r\n",
      "blocks20210319.csv  blocks20210917.csv\t      transactions20210618.csv\r\n",
      "blocks20210320.csv  blocks20210918.csv\t      transactions20210619.csv\r\n",
      "blocks20210321.csv  blocks20210919.csv\t      transactions20210620.csv\r\n",
      "blocks20210322.csv  blocks20210920.csv\t      transactions20210621.csv\r\n",
      "blocks20210323.csv  blocks20210921.csv\t      transactions20210622.csv\r\n",
      "blocks20210324.csv  blocks20210922.csv\t      transactions20210623.csv\r\n",
      "blocks20210325.csv  blocks20210923.csv\t      transactions20210624.csv\r\n",
      "blocks20210326.csv  blocks20210924.csv\t      transactions20210625.csv\r\n",
      "blocks20210327.csv  blocks20210925.csv\t      transactions20210626.csv\r\n",
      "blocks20210328.csv  blocks20210926.csv\t      transactions20210627.csv\r\n",
      "blocks20210329.csv  blocks20210927.csv\t      transactions20210628.csv\r\n",
      "blocks20210330.csv  blocks20210928.csv\t      transactions20210629.csv\r\n",
      "blocks20210331.csv  blocks20210929.csv\t      transactions20210630.csv\r\n",
      "blocks20210401.csv  blocks20210930.csv\t      transactions20210701.csv\r\n",
      "blocks20210402.csv  transactions20210101.csv  transactions20210702.csv\r\n",
      "blocks20210403.csv  transactions20210102.csv  transactions20210703.csv\r\n",
      "blocks20210404.csv  transactions20210103.csv  transactions20210704.csv\r\n",
      "blocks20210405.csv  transactions20210104.csv  transactions20210705.csv\r\n",
      "blocks20210406.csv  transactions20210105.csv  transactions20210706.csv\r\n",
      "blocks20210407.csv  transactions20210106.csv  transactions20210707.csv\r\n",
      "blocks20210408.csv  transactions20210107.csv  transactions20210708.csv\r\n",
      "blocks20210409.csv  transactions20210108.csv  transactions20210709.csv\r\n",
      "blocks20210410.csv  transactions20210109.csv  transactions20210710.csv\r\n",
      "blocks20210411.csv  transactions20210110.csv  transactions20210711.csv\r\n",
      "blocks20210412.csv  transactions20210111.csv  transactions20210712.csv\r\n",
      "blocks20210413.csv  transactions20210112.csv  transactions20210713.csv\r\n",
      "blocks20210414.csv  transactions20210113.csv  transactions20210714.csv\r\n",
      "blocks20210415.csv  transactions20210114.csv  transactions20210715.csv\r\n",
      "blocks20210416.csv  transactions20210115.csv  transactions20210716.csv\r\n",
      "blocks20210417.csv  transactions20210116.csv  transactions20210717.csv\r\n",
      "blocks20210418.csv  transactions20210117.csv  transactions20210718.csv\r\n",
      "blocks20210419.csv  transactions20210118.csv  transactions20210719.csv\r\n",
      "blocks20210420.csv  transactions20210119.csv  transactions20210720.csv\r\n",
      "blocks20210421.csv  transactions20210120.csv  transactions20210721.csv\r\n",
      "blocks20210422.csv  transactions20210121.csv  transactions20210722.csv\r\n",
      "blocks20210423.csv  transactions20210122.csv  transactions20210723.csv\r\n",
      "blocks20210424.csv  transactions20210123.csv  transactions20210724.csv\r\n",
      "blocks20210425.csv  transactions20210124.csv  transactions20210725.csv\r\n",
      "blocks20210426.csv  transactions20210125.csv  transactions20210726.csv\r\n",
      "blocks20210427.csv  transactions20210126.csv  transactions20210727.csv\r\n",
      "blocks20210428.csv  transactions20210127.csv  transactions20210728.csv\r\n",
      "blocks20210429.csv  transactions20210128.csv  transactions20210729.csv\r\n",
      "blocks20210430.csv  transactions20210129.csv  transactions20210730.csv\r\n",
      "blocks20210501.csv  transactions20210130.csv  transactions20210731.csv\r\n",
      "blocks20210502.csv  transactions20210131.csv  transactions20210801.csv\r\n",
      "blocks20210503.csv  transactions20210201.csv  transactions20210802.csv\r\n",
      "blocks20210504.csv  transactions20210202.csv  transactions20210803.csv\r\n",
      "blocks20210505.csv  transactions20210203.csv  transactions20210804.csv\r\n",
      "blocks20210506.csv  transactions20210204.csv  transactions20210805.csv\r\n",
      "blocks20210507.csv  transactions20210205.csv  transactions20210806.csv\r\n",
      "blocks20210508.csv  transactions20210206.csv  transactions20210807.csv\r\n",
      "blocks20210509.csv  transactions20210207.csv  transactions20210808.csv\r\n",
      "blocks20210510.csv  transactions20210208.csv  transactions20210809.csv\r\n",
      "blocks20210511.csv  transactions20210209.csv  transactions20210810.csv\r\n",
      "blocks20210512.csv  transactions20210210.csv  transactions20210811.csv\r\n",
      "blocks20210513.csv  transactions20210211.csv  transactions20210812.csv\r\n",
      "blocks20210514.csv  transactions20210212.csv  transactions20210813.csv\r\n",
      "blocks20210515.csv  transactions20210213.csv  transactions20210814.csv\r\n",
      "blocks20210516.csv  transactions20210214.csv  transactions20210815.csv\r\n",
      "blocks20210517.csv  transactions20210215.csv  transactions20210816.csv\r\n",
      "blocks20210518.csv  transactions20210216.csv  transactions20210817.csv\r\n",
      "blocks20210519.csv  transactions20210217.csv  transactions20210818.csv\r\n",
      "blocks20210520.csv  transactions20210218.csv  transactions20210819.csv\r\n",
      "blocks20210521.csv  transactions20210219.csv  transactions20210820.csv\r\n",
      "blocks20210522.csv  transactions20210220.csv  transactions20210821.csv\r\n",
      "blocks20210523.csv  transactions20210221.csv  transactions20210822.csv\r\n",
      "blocks20210524.csv  transactions20210222.csv  transactions20210823.csv\r\n",
      "blocks20210525.csv  transactions20210223.csv  transactions20210824.csv\r\n",
      "blocks20210526.csv  transactions20210224.csv  transactions20210825.csv\r\n",
      "blocks20210527.csv  transactions20210225.csv  transactions20210826.csv\r\n",
      "blocks20210528.csv  transactions20210226.csv  transactions20210827.csv\r\n",
      "blocks20210529.csv  transactions20210227.csv  transactions20210828.csv\r\n",
      "blocks20210530.csv  transactions20210228.csv  transactions20210829.csv\r\n",
      "blocks20210531.csv  transactions20210301.csv  transactions20210830.csv\r\n",
      "blocks20210601.csv  transactions20210302.csv  transactions20210831.csv\r\n",
      "blocks20210602.csv  transactions20210303.csv  transactions20210901.csv\r\n",
      "blocks20210603.csv  transactions20210304.csv  transactions20210902.csv\r\n",
      "blocks20210604.csv  transactions20210305.csv  transactions20210903.csv\r\n",
      "blocks20210605.csv  transactions20210306.csv  transactions20210904.csv\r\n",
      "blocks20210606.csv  transactions20210307.csv  transactions20210905.csv\r\n",
      "blocks20210607.csv  transactions20210308.csv  transactions20210906.csv\r\n",
      "blocks20210608.csv  transactions20210309.csv  transactions20210907.csv\r\n",
      "blocks20210609.csv  transactions20210310.csv  transactions20210908.csv\r\n",
      "blocks20210610.csv  transactions20210311.csv  transactions20210909.csv\r\n",
      "blocks20210611.csv  transactions20210312.csv  transactions20210910.csv\r\n",
      "blocks20210612.csv  transactions20210313.csv  transactions20210911.csv\r\n",
      "blocks20210613.csv  transactions20210314.csv  transactions20210912.csv\r\n",
      "blocks20210614.csv  transactions20210315.csv  transactions20210913.csv\r\n",
      "blocks20210615.csv  transactions20210316.csv  transactions20210914.csv\r\n",
      "blocks20210616.csv  transactions20210317.csv  transactions20210915.csv\r\n",
      "blocks20210617.csv  transactions20210318.csv  transactions20210916.csv\r\n",
      "blocks20210618.csv  transactions20210319.csv  transactions20210917.csv\r\n",
      "blocks20210619.csv  transactions20210320.csv  transactions20210918.csv\r\n",
      "blocks20210620.csv  transactions20210321.csv  transactions20210919.csv\r\n",
      "blocks20210621.csv  transactions20210322.csv  transactions20210920.csv\r\n",
      "blocks20210622.csv  transactions20210323.csv  transactions20210921.csv\r\n",
      "blocks20210623.csv  transactions20210324.csv  transactions20210922.csv\r\n",
      "blocks20210624.csv  transactions20210325.csv  transactions20210923.csv\r\n",
      "blocks20210625.csv  transactions20210326.csv  transactions20210924.csv\r\n",
      "blocks20210626.csv  transactions20210327.csv  transactions20210925.csv\r\n",
      "blocks20210627.csv  transactions20210328.csv  transactions20210926.csv\r\n",
      "blocks20210628.csv  transactions20210329.csv  transactions20210927.csv\r\n",
      "blocks20210629.csv  transactions20210330.csv  transactions20210928.csv\r\n",
      "blocks20210630.csv  transactions20210331.csv  transactions20210929.csv\r\n",
      "blocks20210701.csv  transactions20210401.csv  transactions20210930.csv\r\n"
     ]
    }
   ],
   "source": [
    "!ls /mnt/eth2021/csv/2021"
   ]
  },
  {
   "cell_type": "code",
   "execution_count": 3,
   "id": "2668b868",
   "metadata": {},
   "outputs": [
    {
     "name": "stdout",
     "output_type": "stream",
     "text": [
      "hash,nonce,block_hash,block_number,transaction_index,from_address,to_address,value,gas,gas_price,input,block_timestamp,max_fee_per_gas,max_priority_fee_per_gas,transaction_type\n",
      "0xe71d93367b4f9907eeff3b930e02d510f582cc1fdceb8563aa4b8f8e24f6e359,167943,0x85e0d29be5060d4d93fe9bb375bb669016523cb8f3a40925d0df5e946e6321b2,13323952,0,0x000f422887ea7d370ff31173fd3b46c8f66a5b1c,0x040099701b85c2e5b8b4d3cc46600519e9cc7c95,324835094283368294,50000,102598869252,0x,1632962808,,,0\n",
      "0x7cbec7cc11156970320ed063022da1bbe1b3efbf7cebb54ea30584fe740b6995,857861,0x85e0d29be5060d4d93fe9bb375bb669016523cb8f3a40925d0df5e946e6321b2,13323952,1,0x5041ed759dd4afc3a72b8192c143f72f4724081a,0xdac17f958d2ee523a2206206994597c13d831ec7,0,420000,99000000000,0xa9059cbb00000000000000000000000037a62f9510a90391d41dabf581109032a8c52184000000000000000000000000000000000000000000000000000000001aa26f88,1632962808,,,0\n",
      "0xc9b337bd04f80a120cbf4b2b222f67e3e2f008d58f660ee543c568652b70ace2,536845,0x85e0d29be5060d4d93fe9bb375bb669016523cb8f3a40925d0df5e946e6321b2,13323952,2,0x3c02290922a3618a4646e3bbca65853ea45fe7c6,0x1f9840a85d5af5bf1d1762f925bdaddc4201f984,0,90000,89686623363,0xa9059cbb0000000000000000000000001535909303174e7a235c33814d1b1a359b76ddf6000000000000000000000000000000000000000000000017efeae8ffbbcf8000,1632962808,145700000000,12000000000,2\n",
      "0xefd06c180c2b8e7892b8e1d0f8eef2043a9f5b0476f5974a3c3f7262a03ca26c,2160886,0x85e0d29be5060d4d93fe9bb375bb669016523cb8f3a40925d0df5e946e6321b2,13323952,3,0x2faf487a4414fe77e2327f0bf4ae2a264a776ad2,0xa0b86991c6218b36c1d19d4a2e9eb0ce3606eb48,0,76564,87186623363,0xa9059cbb0000000000000000000000005620cbd6626669953e302ebe68608e0bc1c1b20600000000000000000000000000000000000000000000000000000034652198c0,1632962808,1000000000000,9500000000,2\n",
      "0xfa74982cc144d914c24fc72e9518c8057448446f6c50c9657aa581ffb5849ca2,41,0x85e0d29be5060d4d93fe9bb375bb669016523cb8f3a40925d0df5e946e6321b2,13323952,4,0x8378ff1e131ddafeff174422ebfa3fe3084b5ecb,0x87d73e916d7057945c9bcd8cdd94e42a6f47f776,0,91087,79686623363,0x095ea7b3000000000000000000000000e592427a0aece92de3edee1f18e0157c05861564ffffffffffffffffffffffffffffffffffffffffffffffffffffffffffffffff,1632962808,111292198560,2000000000,2\n",
      "0x670b3b3098f7ed9cfd7173ed0e473b41600ecbdc2896bce2922936b3046dce88,2948863,0x85e0d29be5060d4d93fe9bb375bb669016523cb8f3a40925d0df5e946e6321b2,13323952,5,0x3cd751e6b0078be393132286c442345e5dc49699,0x53b8f6cdcafc835d0092f531eafc5c13ec228c9d,9638100480000000000,21000,79686623363,0x,1632962808,159000000000,2000000000,2\n",
      "0x313912887c1c4c6d637ccecf88c5191f0cad9617b1bd108d8d32e83309a8936e,10,0x85e0d29be5060d4d93fe9bb375bb669016523cb8f3a40925d0df5e946e6321b2,13323952,6,0x34209305b93d05c934900d6cddfe5a5f5583040f,0xa0c68c638235ee32657e8f720a23cec1bfc77c77,0,102491,79686623363,0xe3dec8fb00000000000000000000000034209305b93d05c934900d6cddfe5a5f5583040f00000000000000000000000007bac35846e5ed502aa91adf6a9e7aa210f2dcbe000000000000000000000000000000000000000000000000000000000000006000000000000000000000000000000000000000000000000000000000000000200000000000000000000000000000000000000000000001586596005d08a40000,1632962808,99155953453,2000000000,2\n",
      "0x1a7e41dc04bb760e0f3b11df4e8569ee85e7eef4858b72f0783f6bfe7e633d66,210,0x85e0d29be5060d4d93fe9bb375bb669016523cb8f3a40925d0df5e946e6321b2,13323952,7,0xa09470fa7a31690fef59242db94a5e81c0a9d8c1,0x7be8076f4ea4a4ad08075c2508e481d6c946d12b,0,74914,79186623363,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,1632962808,102985612949,1500000000,2\n",
      "0x8ae5b9d46091a11318e98f00e10fb02341f9107664c6b616a05d5dff248de95e,49,0x85e0d29be5060d4d93fe9bb375bb669016523cb8f3a40925d0df5e946e6321b2,13323952,8,0x95c0c3f944c7d597cbbf372ecab420b73bca76dd,0x3ef62e02d8aca2114a69c32f1cd1889106cdad9e,0,56873,79186623363,0xf242432a00000000000000000000000095c0c3f944c7d597cbbf372ecab420b73bca76dd0000000000000000000000009f876f1ce16a2c53919ae9f5c1723917038af9a80000000000000000000000000000000000000000000000000000000000000004000000000000000000000000000000000000000000000000000000000000000100000000000000000000000000000000000000000000000000000000000000a00000000000000000000000000000000000000000000000000000000000000000,1632962808,102985612949,1500000000,2\n"
     ]
    }
   ],
   "source": [
    "!head /mnt/eth2021/csv/2021/transactions20210930.csv"
   ]
  },
  {
   "cell_type": "code",
   "execution_count": 6,
   "id": "a4415542",
   "metadata": {},
   "outputs": [
    {
     "name": "stderr",
     "output_type": "stream",
     "text": [
      "21/10/27 23:22:56 WARN Utils: Your hostname, M4 resolves to a loopback address: 127.0.1.1; using 192.168.31.144 instead (on interface enx00e04c680043)\n",
      "21/10/27 23:22:56 WARN Utils: Set SPARK_LOCAL_IP if you need to bind to another address\n",
      "WARNING: An illegal reflective access operation has occurred\n",
      "WARNING: Illegal reflective access by org.apache.spark.unsafe.Platform (file:/home/aadebuger/pysparkvenv3/lib/python3.8/site-packages/pyspark/jars/spark-unsafe_2.12-3.2.0.jar) to constructor java.nio.DirectByteBuffer(long,int)\n",
      "WARNING: Please consider reporting this to the maintainers of org.apache.spark.unsafe.Platform\n",
      "WARNING: Use --illegal-access=warn to enable warnings of further illegal reflective access operations\n",
      "WARNING: All illegal access operations will be denied in a future release\n",
      "Using Spark's default log4j profile: org/apache/spark/log4j-defaults.properties\n",
      "Setting default log level to \"WARN\".\n",
      "To adjust logging level use sc.setLogLevel(newLevel). For SparkR, use setLogLevel(newLevel).\n",
      "21/10/27 23:22:56 WARN NativeCodeLoader: Unable to load native-hadoop library for your platform... using builtin-java classes where applicable\n",
      "21/10/27 23:22:57 WARN Utils: Service 'SparkUI' could not bind on port 4040. Attempting port 4041.\n",
      "                                                                                \r"
     ]
    }
   ],
   "source": [
    "from pyspark.sql import SparkSession\n",
    "csvname=\"/mnt/eth2021/csv/2021/transactions202109.csv\"\n",
    "spark = SparkSession.builder.appName(\"SimpleApp\").getOrCreate()\n",
    "df = spark.read.load(csvname,\n",
    "                     format=\"csv\", sep=\";\", inferSchema=\"true\", header=\"true\")"
   ]
  },
  {
   "cell_type": "code",
   "execution_count": 7,
   "id": "520b0a79",
   "metadata": {},
   "outputs": [
    {
     "name": "stderr",
     "output_type": "stream",
     "text": [
      "                                                                                \r"
     ]
    },
    {
     "data": {
      "text/plain": [
       "1116157"
      ]
     },
     "execution_count": 7,
     "metadata": {},
     "output_type": "execute_result"
    }
   ],
   "source": [
    "df.count()"
   ]
  },
  {
   "cell_type": "code",
   "execution_count": 8,
   "id": "9091938a",
   "metadata": {},
   "outputs": [
    {
     "name": "stdout",
     "output_type": "stream",
     "text": [
      "DataFrame[hash,nonce,block_hash,block_number,transaction_index,from_address,to_address,value,gas,gas_price,input,block_timestamp,max_fee_per_gas,max_priority_fee_per_gas,transaction_type: string]\n"
     ]
    }
   ],
   "source": [
    "print(df)"
   ]
  },
  {
   "cell_type": "code",
   "execution_count": 9,
   "id": "c58271a8",
   "metadata": {},
   "outputs": [],
   "source": [
    "df.createOrReplaceTempView(\"transactions\")"
   ]
  },
  {
   "cell_type": "code",
   "execution_count": 10,
   "id": "7330ca79",
   "metadata": {},
   "outputs": [],
   "source": [
    "sqlDF = spark.sql(\"SELECT * FROM transactions \")"
   ]
  },
  {
   "cell_type": "code",
   "execution_count": 11,
   "id": "bc45fb0f",
   "metadata": {},
   "outputs": [
    {
     "name": "stdout",
     "output_type": "stream",
     "text": [
      "+--------------------------------------------------------------------------------------------------------------------------------------------------------------------------------+\n",
      "|hash,nonce,block_hash,block_number,transaction_index,from_address,to_address,value,gas,gas_price,input,block_timestamp,max_fee_per_gas,max_priority_fee_per_gas,transaction_type|\n",
      "+--------------------------------------------------------------------------------------------------------------------------------------------------------------------------------+\n",
      "|                                                                                                                                                            0xe71d93367b4f990...|\n",
      "|                                                                                                                                                            0x7cbec7cc1115697...|\n",
      "|                                                                                                                                                            0xc9b337bd04f80a1...|\n",
      "|                                                                                                                                                            0xefd06c180c2b8e7...|\n",
      "|                                                                                                                                                            0xfa74982cc144d91...|\n",
      "|                                                                                                                                                            0x670b3b3098f7ed9...|\n",
      "|                                                                                                                                                            0x313912887c1c4c6...|\n",
      "|                                                                                                                                                            0x1a7e41dc04bb760...|\n",
      "|                                                                                                                                                            0x8ae5b9d46091a11...|\n",
      "|                                                                                                                                                            0xdbff77d62b8427b...|\n",
      "|                                                                                                                                                            0x2a7910e2c1b1657...|\n",
      "|                                                                                                                                                            0x01879c68f11a627...|\n",
      "|                                                                                                                                                            0x55f996fadcfdefb...|\n",
      "|                                                                                                                                                            0xeb9e60c741304e8...|\n",
      "|                                                                                                                                                            0x3221568fc1ded4a...|\n",
      "|                                                                                                                                                            0x49d578534ed3407...|\n",
      "|                                                                                                                                                            0xdf1cd72e861ee31...|\n",
      "|                                                                                                                                                            0x4bce6755719e7b4...|\n",
      "|                                                                                                                                                            0x15f6315c38075e3...|\n",
      "|                                                                                                                                                            0xaccab8bedaf37a4...|\n",
      "+--------------------------------------------------------------------------------------------------------------------------------------------------------------------------------+\n",
      "only showing top 20 rows\n",
      "\n"
     ]
    }
   ],
   "source": [
    "sqlDF.show()"
   ]
  },
  {
   "cell_type": "code",
   "execution_count": 21,
   "id": "b4beabbe",
   "metadata": {},
   "outputs": [],
   "source": [
    "sqlDF = spark.sql(\"SELECT * FROM transactions limit 1\")"
   ]
  },
  {
   "cell_type": "code",
   "execution_count": 22,
   "id": "f808b558",
   "metadata": {},
   "outputs": [
    {
     "name": "stdout",
     "output_type": "stream",
     "text": [
      "+-----------------------------------------------------------------------------------------------------------------------------------------------------------------------------------------------------------------------------------------------------------------------------------------------------+\n",
      "|hash,nonce,block_hash,block_number,transaction_index,from_address,to_address,value,gas,gas_price,input,block_timestamp,max_fee_per_gas,max_priority_fee_per_gas,transaction_type                                                                                                                     |\n",
      "+-----------------------------------------------------------------------------------------------------------------------------------------------------------------------------------------------------------------------------------------------------------------------------------------------------+\n",
      "|0xe71d93367b4f9907eeff3b930e02d510f582cc1fdceb8563aa4b8f8e24f6e359,167943,0x85e0d29be5060d4d93fe9bb375bb669016523cb8f3a40925d0df5e946e6321b2,13323952,0,0x000f422887ea7d370ff31173fd3b46c8f66a5b1c,0x040099701b85c2e5b8b4d3cc46600519e9cc7c95,324835094283368294,50000,102598869252,0x,1632962808,,,0|\n",
      "+-----------------------------------------------------------------------------------------------------------------------------------------------------------------------------------------------------------------------------------------------------------------------------------------------------+\n",
      "\n"
     ]
    }
   ],
   "source": [
    "sqlDF.show(2,False)"
   ]
  },
  {
   "cell_type": "code",
   "execution_count": 23,
   "id": "ff827a9a",
   "metadata": {},
   "outputs": [
    {
     "name": "stderr",
     "output_type": "stream",
     "text": [
      "                                                                                \r"
     ]
    }
   ],
   "source": [
    "from pyspark.sql import SparkSession\n",
    "csvname=\"/mnt/eth2021/csv/2021/transactions202109*.csv\"\n",
    "spark = SparkSession.builder.appName(\"SimpleApp\").getOrCreate()\n",
    "df = spark.read.load(csvname,\n",
    "                     format=\"csv\", sep=\";\", inferSchema=\"true\", header=\"true\")"
   ]
  },
  {
   "cell_type": "code",
   "execution_count": 24,
   "id": "75bf3046",
   "metadata": {},
   "outputs": [
    {
     "name": "stderr",
     "output_type": "stream",
     "text": [
      "                                                                                \r"
     ]
    },
    {
     "data": {
      "text/plain": [
       "35609993"
      ]
     },
     "execution_count": 24,
     "metadata": {},
     "output_type": "execute_result"
    }
   ],
   "source": [
    "df.count()"
   ]
  },
  {
   "cell_type": "code",
   "execution_count": 11,
   "id": "50e236bf",
   "metadata": {},
   "outputs": [
    {
     "name": "stderr",
     "output_type": "stream",
     "text": [
      "                                                                                \r"
     ]
    }
   ],
   "source": [
    "from pyspark.sql import SparkSession\n",
    "csvname=\"/mnt/eth2021/csv/2021/transactions202109*.csv\"\n",
    "spark = SparkSession.builder.appName(\"SimpleApp\").getOrCreate()\n",
    "df = spark.read.load(csvname,\n",
    "                     format=\"csv\", sep=\",\", inferSchema=\"true\", header=\"true\")"
   ]
  },
  {
   "cell_type": "code",
   "execution_count": 13,
   "id": "af24dafe",
   "metadata": {},
   "outputs": [
    {
     "name": "stderr",
     "output_type": "stream",
     "text": [
      "                                                                                \r"
     ]
    },
    {
     "data": {
      "text/plain": [
       "35609993"
      ]
     },
     "execution_count": 13,
     "metadata": {},
     "output_type": "execute_result"
    }
   ],
   "source": [
    "df.count()"
   ]
  },
  {
   "cell_type": "code",
   "execution_count": 14,
   "id": "a0473cfe",
   "metadata": {},
   "outputs": [
    {
     "name": "stderr",
     "output_type": "stream",
     "text": [
      "                                                                                \r"
     ]
    },
    {
     "data": {
      "text/plain": [
       "35609993"
      ]
     },
     "execution_count": 14,
     "metadata": {},
     "output_type": "execute_result"
    }
   ],
   "source": [
    "df.count()"
   ]
  },
  {
   "cell_type": "code",
   "execution_count": 15,
   "id": "0ca3245f",
   "metadata": {},
   "outputs": [],
   "source": [
    "df.createOrReplaceTempView(\"transactions\")"
   ]
  },
  {
   "cell_type": "code",
   "execution_count": 20,
   "id": "d228733e",
   "metadata": {},
   "outputs": [],
   "source": [
    "sqlDF = spark.sql(\"\"\"SELECT * FROM transactions where to_address=\"0xc8fad0f6ce7c97d59633a0c3f77e7e41da053d73\"   \"\"\")"
   ]
  },
  {
   "cell_type": "code",
   "execution_count": 22,
   "id": "482c22aa",
   "metadata": {},
   "outputs": [
    {
     "name": "stderr",
     "output_type": "stream",
     "text": [
      "[Stage 26:===================================================>  (119 + 7) / 126]\r"
     ]
    },
    {
     "name": "stdout",
     "output_type": "stream",
     "text": [
      "+--------------------+-------+--------------------+------------+-----------------+--------------------+--------------------+------------------+------+-----------+-----+---------------+---------------+------------------------+----------------+\n",
      "|                hash|  nonce|          block_hash|block_number|transaction_index|        from_address|          to_address|             value|   gas|  gas_price|input|block_timestamp|max_fee_per_gas|max_priority_fee_per_gas|transaction_type|\n",
      "+--------------------+-------+--------------------+------------+-----------------+--------------------+--------------------+------------------+------+-----------+-----+---------------+---------------+------------------------+----------------+\n",
      "|0x5f5c28540277f61...| 130172|0x5f252dd4a50be26...|    13139939|              400|0xe206e3dca498258...|0xc8fad0f6ce7c97d...|103470028747453504|100000|77227892740|   0x|     1630501085|   310118395095|                       0|               2|\n",
      "|0x9f3559b3bc39d1e...|3619118|0x456d760f95f5e9a...|    13151678|              468|0x8fd00f170fdf377...|0xc8fad0f6ce7c97d...|178570288821823710|100000|95921890728|   0x|     1630657905|   464609453640|              3000000000|               2|\n",
      "|0xf0481f3acf642dd...|3647736|0x77b138155b46651...|    13164641|              221|0x8fd00f170fdf377...|0xc8fad0f6ce7c97d...|131822321213435341|100000|93248988543|   0x|     1630830301|   100000000000|              3000000000|               2|\n",
      "|0x1f8aa30ef0375f3...|3672365|0x377a610b89f7fc2...|    13177471|              276|0x8fd00f170fdf377...|0xc8fad0f6ce7c97d...|192019598346998013|100000|98861269713|   0x|     1631001940|   100000000000|              3000000000|               2|\n",
      "|0x244e225f90620fe...| 139426|0x72a2b51ece3a059...|    13184126|              265|0xe206e3dca498258...|0xc8fad0f6ce7c97d...|147557566463899983|100000|86031745194|   0x|     1631091033|   100000000000|              3000000000|               2|\n",
      "|0xd7b0c43e966e693...|3690000|0x5f804ec0d918167...|    13190626|              219|0x8fd00f170fdf377...|0xc8fad0f6ce7c97d...|109949397590500108|100000|87427939780|   0x|     1631178345|   100000000000|              3000000000|               2|\n",
      "|0x83c5f88f77e53d8...|3701212|0xfbe6027f4abc8f6...|    13203312|              136|0x8fd00f170fdf377...|0xc8fad0f6ce7c97d...|175700965571192815|100000|62754132246|   0x|     1631347935|   100000000000|              3000000000|               2|\n",
      "|0x64d526eb14207d7...|3715224|0x45a2feca7193b69...|    13216199|              437|0x8fd00f170fdf377...|0xc8fad0f6ce7c97d...|158840786975767155|100000|88328336071|   0x|     1631520680|   100000000000|              3000000000|               2|\n",
      "|0x53b7bd9ef954fca...|3728468|0x0f99f6d90d9e2bd...|    13229112|              188|0x8fd00f170fdf377...|0xc8fad0f6ce7c97d...|198947460070347841|100000|67703334776|   0x|     1631693356|    68773632820|                       0|               2|\n",
      "|0xa4ffa207473de25...|3742207|0x73dd23f3f70e1bd...|    13242150|              440|0x8fd00f170fdf377...|0xc8fad0f6ce7c97d...|193559526092062596|100000|59523382283|   0x|     1631867451|    69479318751|              1100000000|               2|\n",
      "|0x4886d8fa280c10b...|3757011|0x25574e96bf2cb1c...|    13254947|              394|0x8fd00f170fdf377...|0xc8fad0f6ce7c97d...|190818361923671596|100000|34751468785|   0x|     1632038433|    34751468785|              1000000000|               2|\n",
      "|0x0e45f5507b28184...| 206356|0x8903d96e7978055...|    13261436|              290|0xe206e3dca498258...|0xc8fad0f6ce7c97d...|102071089738182119|100000|57038157844|   0x|     1632125149|    67064761419|              1000000000|               2|\n",
      "|0x9b188c732dbd9d3...|3785025|0xf054a71464b519d...|    13274350|             1071|0x8fd00f170fdf377...|0xc8fad0f6ce7c97d...|197395623093158345|100000|46409373826|   0x|     1632297105|    53457444459|              1000000000|               2|\n",
      "|0xe6b0d41f668f1dc...|3804943|0xf44ecbc2617b612...|    13287210|              327|0x8fd00f170fdf377...|0xc8fad0f6ce7c97d...|191653838413211258|100000|48003206000|   0x|     1632469324|    51464346428|              1000000000|               2|\n",
      "|0x05b4e4229627f59...| 223644|0x8d67162fef9b35c...|    13293690|             1021|0xe206e3dca498258...|0xc8fad0f6ce7c97d...|104227993400584099|100000|41058474207|   0x|     1632556166|    46906824748|              1000000000|               2|\n",
      "|0x51120a9b5a91217...| 229917|0x5747ac32ae0b9e6...|    13306561|              917|0xe206e3dca498258...|0xc8fad0f6ce7c97d...|186277158956891645|100000|47188053134|   0x|     1632728440|    61033694630|              1000000000|               2|\n",
      "|0x1870647a84aca80...|3867467|0xadd57a8e47dfba3...|    13319474|              868|0x8fd00f170fdf377...|0xc8fad0f6ce7c97d...|179181359364424225|100000|47434608872|   0x|     1632902398|    53787341152|              1000000000|               2|\n",
      "+--------------------+-------+--------------------+------------+-----------------+--------------------+--------------------+------------------+------+-----------+-----+---------------+---------------+------------------------+----------------+\n",
      "\n"
     ]
    },
    {
     "name": "stderr",
     "output_type": "stream",
     "text": [
      "\r",
      "[Stage 26:====================================================> (123 + 3) / 126]\r",
      "\r",
      "                                                                                \r"
     ]
    }
   ],
   "source": [
    "df.filter(df['to_address'] == \"0xc8fad0f6ce7c97d59633a0c3f77e7e41da053d73\").show()"
   ]
  },
  {
   "cell_type": "code",
   "execution_count": 12,
   "id": "ee823a0e",
   "metadata": {},
   "outputs": [
    {
     "data": {
      "text/plain": [
       "['hash',\n",
       " 'nonce',\n",
       " 'block_hash',\n",
       " 'block_number',\n",
       " 'transaction_index',\n",
       " 'from_address',\n",
       " 'to_address',\n",
       " 'value',\n",
       " 'gas',\n",
       " 'gas_price',\n",
       " 'input',\n",
       " 'block_timestamp',\n",
       " 'max_fee_per_gas',\n",
       " 'max_priority_fee_per_gas',\n",
       " 'transaction_type']"
      ]
     },
     "execution_count": 12,
     "metadata": {},
     "output_type": "execute_result"
    }
   ],
   "source": [
    "df.columns"
   ]
  },
  {
   "cell_type": "code",
   "execution_count": 23,
   "id": "513112c8",
   "metadata": {},
   "outputs": [
    {
     "name": "stderr",
     "output_type": "stream",
     "text": [
      "[Stage 30:=============================================>         (62 + 12) / 75]\r"
     ]
    },
    {
     "name": "stdout",
     "output_type": "stream",
     "text": [
      "+------------------------------------------------------------------+-------+------------------------------------------------------------------+------------+-----------------+------------------------------------------+------------------------------------------+------------------+------+-----------+-----+---------------+---------------+------------------------+----------------+\n",
      "|hash                                                              |nonce  |block_hash                                                        |block_number|transaction_index|from_address                              |to_address                                |value             |gas   |gas_price  |input|block_timestamp|max_fee_per_gas|max_priority_fee_per_gas|transaction_type|\n",
      "+------------------------------------------------------------------+-------+------------------------------------------------------------------+------------+-----------------+------------------------------------------+------------------------------------------+------------------+------+-----------+-----+---------------+---------------+------------------------+----------------+\n",
      "|0x5f5c28540277f614d953978f7a35eddc6ed908066f451b2ff54eb445beb4558b|130172 |0x5f252dd4a50be26479bc922644f784bd857d05e3b251d10bd00b752a386f9c96|13139939    |400              |0xe206e3dca498258f1b7eec1c640b5aee7bb88fd0|0xc8fad0f6ce7c97d59633a0c3f77e7e41da053d73|103470028747453504|100000|77227892740|0x   |1630501085     |310118395095   |0                       |2               |\n",
      "|0x9f3559b3bc39d1ede0257ac38c786cf68b4749712ee6ceb1d8d4dd28ba143e3e|3619118|0x456d760f95f5e9acadcc667d465e201eda4709033c122103a108b85145217b20|13151678    |468              |0x8fd00f170fdf3772c5ebdcd90bf257316c69ba45|0xc8fad0f6ce7c97d59633a0c3f77e7e41da053d73|178570288821823710|100000|95921890728|0x   |1630657905     |464609453640   |3000000000              |2               |\n",
      "|0xf0481f3acf642dd55839bf3078365daf99df58cbe2db6e7a131b31d5f4a4c69c|3647736|0x77b138155b4665157b8a0be8553ff7d0be800717013a81023de80d7ef224f8c9|13164641    |221              |0x8fd00f170fdf3772c5ebdcd90bf257316c69ba45|0xc8fad0f6ce7c97d59633a0c3f77e7e41da053d73|131822321213435341|100000|93248988543|0x   |1630830301     |100000000000   |3000000000              |2               |\n",
      "|0x1f8aa30ef0375f3bd0faf995d5851613c66386d90ee713e2196d3a5374dec41a|3672365|0x377a610b89f7fc2edd81270fa22cbfe991caff096e53cd5c854747145b89074c|13177471    |276              |0x8fd00f170fdf3772c5ebdcd90bf257316c69ba45|0xc8fad0f6ce7c97d59633a0c3f77e7e41da053d73|192019598346998013|100000|98861269713|0x   |1631001940     |100000000000   |3000000000              |2               |\n",
      "|0x244e225f90620fe73862eb59fb1b96882015ebaccfc44c4cb76fba36a4390784|139426 |0x72a2b51ece3a059167d7cd3c0cfb22cce8c0eabdbaf9bb64bc19731482fe178f|13184126    |265              |0xe206e3dca498258f1b7eec1c640b5aee7bb88fd0|0xc8fad0f6ce7c97d59633a0c3f77e7e41da053d73|147557566463899983|100000|86031745194|0x   |1631091033     |100000000000   |3000000000              |2               |\n",
      "+------------------------------------------------------------------+-------+------------------------------------------------------------------+------------+-----------------+------------------------------------------+------------------------------------------+------------------+------+-----------+-----+---------------+---------------+------------------------+----------------+\n",
      "only showing top 5 rows\n",
      "\n"
     ]
    },
    {
     "name": "stderr",
     "output_type": "stream",
     "text": [
      "\r",
      "[Stage 30:=====================================================>  (72 + 3) / 75]\r",
      "\r",
      "                                                                                \r"
     ]
    }
   ],
   "source": [
    "sqlDF.show(5,False)"
   ]
  },
  {
   "cell_type": "code",
   "execution_count": 24,
   "id": "51d047cf",
   "metadata": {},
   "outputs": [
    {
     "name": "stderr",
     "output_type": "stream",
     "text": [
      "                                                                                \r"
     ]
    }
   ],
   "source": [
    "from pyspark.sql import SparkSession\n",
    "csvname=\"/mnt/eth2021/csv/2021/transactions202109*.csv\"\n",
    "spark = SparkSession.builder.appName(\"SimpleApp\").getOrCreate()\n",
    "df = spark.read.load(csvname,\n",
    "                     format=\"csv\", sep=\",\", inferSchema=\"true\", header=\"true\")"
   ]
  },
  {
   "cell_type": "code",
   "execution_count": 25,
   "id": "830789bd",
   "metadata": {},
   "outputs": [
    {
     "name": "stderr",
     "output_type": "stream",
     "text": [
      "                                                                                \r"
     ]
    },
    {
     "data": {
      "text/plain": [
       "35609993"
      ]
     },
     "execution_count": 25,
     "metadata": {},
     "output_type": "execute_result"
    }
   ],
   "source": [
    "df.count()"
   ]
  },
  {
   "cell_type": "code",
   "execution_count": 26,
   "id": "fbcf56c6",
   "metadata": {},
   "outputs": [
    {
     "name": "stderr",
     "output_type": "stream",
     "text": [
      "                                                                                \r"
     ]
    }
   ],
   "source": [
    "from pyspark.sql import SparkSession\n",
    "csvname=\"/mnt/eth2021/csv/2021/transactions202108*.csv\"\n",
    "spark = SparkSession.builder.appName(\"SimpleApp\").getOrCreate()\n",
    "df = spark.read.load(csvname,\n",
    "                     format=\"csv\", sep=\",\", inferSchema=\"true\", header=\"true\")"
   ]
  },
  {
   "cell_type": "code",
   "execution_count": 27,
   "id": "124dff33",
   "metadata": {},
   "outputs": [
    {
     "name": "stderr",
     "output_type": "stream",
     "text": [
      "                                                                                \r"
     ]
    },
    {
     "data": {
      "text/plain": [
       "37250450"
      ]
     },
     "execution_count": 27,
     "metadata": {},
     "output_type": "execute_result"
    }
   ],
   "source": [
    "df.count()"
   ]
  },
  {
   "cell_type": "code",
   "execution_count": null,
   "id": "d45d3396",
   "metadata": {},
   "outputs": [],
   "source": []
  }
 ],
 "metadata": {
  "kernelspec": {
   "display_name": "Python 3 (ipykernel)",
   "language": "python",
   "name": "python3"
  },
  "language_info": {
   "codemirror_mode": {
    "name": "ipython",
    "version": 3
   },
   "file_extension": ".py",
   "mimetype": "text/x-python",
   "name": "python",
   "nbconvert_exporter": "python",
   "pygments_lexer": "ipython3",
   "version": "3.8.10"
  }
 },
 "nbformat": 4,
 "nbformat_minor": 5
}
